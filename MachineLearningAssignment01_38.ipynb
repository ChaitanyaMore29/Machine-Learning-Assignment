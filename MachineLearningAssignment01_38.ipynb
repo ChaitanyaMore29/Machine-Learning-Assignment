{
  "nbformat": 4,
  "nbformat_minor": 0,
  "metadata": {
    "colab": {
      "provenance": []
    },
    "kernelspec": {
      "name": "python3",
      "display_name": "Python 3"
    },
    "language_info": {
      "name": "python"
    }
  },
  "cells": [
    {
      "cell_type": "code",
      "source": [
        "import numpy as np\n"
      ],
      "metadata": {
        "id": "KdgMx1nCfgGk"
      },
      "execution_count": 2,
      "outputs": []
    },
    {
      "cell_type": "code",
      "execution_count": 3,
      "metadata": {
        "id": "FjYRVCABew1o"
      },
      "outputs": [],
      "source": [
        "x = np.array([1, 2, 3, 4, 5, 6, 7, 8, 9])"
      ]
    },
    {
      "cell_type": "code",
      "source": [
        "mean_x =sum(x)/len(x)\n",
        "print(mean_x)"
      ],
      "metadata": {
        "colab": {
          "base_uri": "https://localhost:8080/"
        },
        "id": "frmxFg2XezuH",
        "outputId": "b9c90cf4-95a8-4fd9-8c59-1998f2f7a218"
      },
      "execution_count": 4,
      "outputs": [
        {
          "output_type": "stream",
          "name": "stdout",
          "text": [
            "5.0\n"
          ]
        }
      ]
    },
    {
      "cell_type": "code",
      "source": [
        "var = sum((x-mean_x)**2)/len(x)\n",
        "print(var)"
      ],
      "metadata": {
        "colab": {
          "base_uri": "https://localhost:8080/"
        },
        "id": "LqiN8y9leznQ",
        "outputId": "1a346811-59d2-4761-91fc-d4171e3a59be"
      },
      "execution_count": 5,
      "outputs": [
        {
          "output_type": "stream",
          "name": "stdout",
          "text": [
            "6.666666666666667\n"
          ]
        }
      ]
    },
    {
      "cell_type": "code",
      "source": [
        "sd = var**0.5\n",
        "print(sd)"
      ],
      "metadata": {
        "colab": {
          "base_uri": "https://localhost:8080/"
        },
        "id": "RDTIxETRf4Am",
        "outputId": "c39db82b-46f7-4d98-ddf1-7b8ed62dd018"
      },
      "execution_count": 6,
      "outputs": [
        {
          "output_type": "stream",
          "name": "stdout",
          "text": [
            "2.581988897471611\n"
          ]
        }
      ]
    },
    {
      "cell_type": "code",
      "source": [
        "import seaborn as sns\n",
        "sns.boxplot(x)"
      ],
      "metadata": {
        "colab": {
          "base_uri": "https://localhost:8080/",
          "height": 428
        },
        "id": "VtgL1Fo7gAZ2",
        "outputId": "d045275c-a20f-4487-d29d-8fa78a7ff63c"
      },
      "execution_count": 8,
      "outputs": [
        {
          "output_type": "execute_result",
          "data": {
            "text/plain": [
              "<Axes: >"
            ]
          },
          "metadata": {},
          "execution_count": 8
        },
        {
          "output_type": "display_data",
          "data": {
            "text/plain": [
              "<Figure size 640x480 with 1 Axes>"
            ],
            "image/png": "[encoded data removed]"
          },
          "metadata": {}
        }
      ]
    },
    {
      "cell_type": "code",
      "source": [
        "import scipy.stats as stat\n",
        "data = stat.describe(x)\n",
        "print(data)"
      ],
      "metadata": {
        "colab": {
          "base_uri": "https://localhost:8080/"
        },
        "id": "6u0GEsZogKlI",
        "outputId": "1b6c9f4d-df41-4a06-8e2e-75aa9dbd2865"
      },
      "execution_count": 9,
      "outputs": [
        {
          "output_type": "stream",
          "name": "stdout",
          "text": [
            "DescribeResult(nobs=9, minmax=(1, 9), mean=5.0, variance=7.5, skewness=0.0, kurtosis=-1.2300000000000002)\n"
          ]
        }
      ]
    },
    {
      "cell_type": "code",
      "source": [],
      "metadata": {
        "id": "CUXf9UWKgdx5"
      },
      "execution_count": null,
      "outputs": []
    }
  ]
}